{
 "cells": [
  {
   "cell_type": "code",
   "execution_count": 1,
   "id": "638bb6d7",
   "metadata": {},
   "outputs": [],
   "source": [
    "# Nile S  roll no: 15"
   ]
  },
  {
   "cell_type": "code",
   "execution_count": 19,
   "id": "9b63c302",
   "metadata": {},
   "outputs": [
    {
     "name": "stdout",
     "output_type": "stream",
     "text": [
      "enter the value of n : 15\n",
      "The value of n is a +ve number\n",
      "value= 350\n"
     ]
    }
   ],
   "source": [
    "try:\n",
    "    n_ec015=int(input('enter the value of n : ')) ## KTU id cea20ec015 → 15\n",
    "    value_ec015=22*n_ec015+n_ec015+5\n",
    "    if(n_ec015>0):\n",
    "        print(\"The value of n is a +ve number\")\n",
    "    if(n_ec015<0):\n",
    "        print(\"The value of n is a -ve number\")\n",
    "    if(n_ec015==0):\n",
    "        print(\"The value of n is 0 \")\n",
    "\n",
    "\n",
    "    print('value=',value_ec015)\n",
    "except ValueError:\n",
    "    print(\"sorry,invalid input\")\n",
    "#output enter the value of n : 15\n",
    "#The value of n is a +ve number\n",
    "#value= 350"
   ]
  }
 ],
 "metadata": {
  "kernelspec": {
   "display_name": "Python 3 (ipykernel)",
   "language": "python",
   "name": "python3"
  },
  "language_info": {
   "codemirror_mode": {
    "name": "ipython",
    "version": 3
   },
   "file_extension": ".py",
   "mimetype": "text/x-python",
   "name": "python",
   "nbconvert_exporter": "python",
   "pygments_lexer": "ipython3",
   "version": "3.8.5"
  }
 },
 "nbformat": 4,
 "nbformat_minor": 5
}
