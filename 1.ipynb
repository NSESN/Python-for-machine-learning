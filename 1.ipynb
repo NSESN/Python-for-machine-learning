{
 "cells": [
  {
   "cell_type": "code",
   "execution_count": 14,
   "id": "4a281bbe",
   "metadata": {},
   "outputs": [],
   "source": [
    "# Nile S   roll no:15"
   ]
  },
  {
   "cell_type": "code",
   "execution_count": 16,
   "id": "9a8f5e21",
   "metadata": {},
   "outputs": [
    {
     "name": "stdout",
     "output_type": "stream",
     "text": [
      "enter the number 20015\n",
      "reversed number :  51002\n",
      "sum of digits : 8\n"
     ]
    }
   ],
   "source": [
    "try:\n",
    "    number_ec015=int(input('enter the number ')) #cea20ec015 → 20015\n",
    "\n",
    "    r_ec015=0\n",
    "    sum_ec015=0\n",
    "    num_ec015=number_ec015\n",
    "    while(number_ec015>0):\n",
    "        remainder_015=number_ec015%10\n",
    "        sum_ec015=sum_ec015 + remainder_015\n",
    "        num_ec015= int(num_ec015/10)\n",
    "    \n",
    "        r_ec015=(r_ec015*10)+remainder_015\n",
    "        number_ec015=number_ec015//10\n",
    "    print(\"reversed number : \",r_ec015)\n",
    "    print(\"sum of digits :\" ,sum_ec015)\n",
    "except ValueError:\n",
    "    print(\"sorry, INVALID INPUT\")"
   ]
  }
 ],
 "metadata": {
  "kernelspec": {
   "display_name": "Python 3 (ipykernel)",
   "language": "python",
   "name": "python3"
  },
  "language_info": {
   "codemirror_mode": {
    "name": "ipython",
    "version": 3
   },
   "file_extension": ".py",
   "mimetype": "text/x-python",
   "name": "python",
   "nbconvert_exporter": "python",
   "pygments_lexer": "ipython3",
   "version": "3.8.5"
  }
 },
 "nbformat": 4,
 "nbformat_minor": 5
}
