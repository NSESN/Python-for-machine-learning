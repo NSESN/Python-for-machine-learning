{
 "cells": [
  {
   "cell_type": "code",
   "execution_count": 2,
   "id": "8e6eb8e9",
   "metadata": {},
   "outputs": [],
   "source": [
    "# Nile S   roll no : 15"
   ]
  },
  {
   "cell_type": "code",
   "execution_count": 6,
   "id": "42c478fa",
   "metadata": {},
   "outputs": [
    {
     "name": "stdout",
     "output_type": "stream",
     "text": [
      "Enter year to be checked:20015\n",
      "The year is not a leap year\n"
     ]
    }
   ],
   "source": [
    "try:\n",
    "    year_ec015=int(input(\"Enter year to be checked:\")) #cea20ec015 → 20015 \n",
    "    if(year_ec015%4==0 and year_ec015%100!=0 or year_ec015%400==0):\n",
    "        print(\"The year is a leap year\")\n",
    "    else:\n",
    "        print(\"The year is not a leap year\")\n",
    "except ValueError:\n",
    "    print(\"sorry,INVALID INPUT\")\n",
    "#out put : The year is not a leap year"
   ]
  }
 ],
 "metadata": {
  "kernelspec": {
   "display_name": "Python 3 (ipykernel)",
   "language": "python",
   "name": "python3"
  },
  "language_info": {
   "codemirror_mode": {
    "name": "ipython",
    "version": 3
   },
   "file_extension": ".py",
   "mimetype": "text/x-python",
   "name": "python",
   "nbconvert_exporter": "python",
   "pygments_lexer": "ipython3",
   "version": "3.8.5"
  }
 },
 "nbformat": 4,
 "nbformat_minor": 5
}
