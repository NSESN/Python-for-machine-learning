{
 "cells": [
  {
   "cell_type": "code",
   "execution_count": 1,
   "id": "33c5d814",
   "metadata": {},
   "outputs": [],
   "source": [
    "# Nile S  roll no: 15"
   ]
  },
  {
   "cell_type": "code",
   "execution_count": 52,
   "id": "3aa335d8",
   "metadata": {},
   "outputs": [
    {
     "name": "stdout",
     "output_type": "stream",
     "text": [
      "enter the number360270\n",
      "Total no of digits :  6\n"
     ]
    }
   ],
   "source": [
    "# input: #KTU id:CEA20EC015 DOB: 18/10/2002  18*20015=360270\n",
    "try:\n",
    "    \n",
    "    n_ec015=int(input('enter the number')) \n",
    "except ValueError:\n",
    "    print(\"Sorry, invalid input.try again using integer :)\")\n",
    "else:\n",
    "    \n",
    "    def num_ec015(n_ec015):\n",
    "        if n_ec015 ==0:\n",
    "            return 0\n",
    "        else:\n",
    "            return(1+num_ec015(n_ec015//10))\n",
    "    \n",
    "    print(\"Total no of digits : \",num_ec015(n_ec015)) #output : 6\n"
   ]
  }
 ],
 "metadata": {
  "kernelspec": {
   "display_name": "Python 3 (ipykernel)",
   "language": "python",
   "name": "python3"
  },
  "language_info": {
   "codemirror_mode": {
    "name": "ipython",
    "version": 3
   },
   "file_extension": ".py",
   "mimetype": "text/x-python",
   "name": "python",
   "nbconvert_exporter": "python",
   "pygments_lexer": "ipython3",
   "version": "3.8.5"
  }
 },
 "nbformat": 4,
 "nbformat_minor": 5
}
