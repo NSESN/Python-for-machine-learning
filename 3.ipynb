{
 "cells": [
  {
   "cell_type": "code",
   "execution_count": 1,
   "id": "d8a64d6b",
   "metadata": {},
   "outputs": [],
   "source": [
    "# Nile S    roll no : 15\n"
   ]
  },
  {
   "cell_type": "code",
   "execution_count": 4,
   "id": "f62835a6",
   "metadata": {},
   "outputs": [
    {
     "name": "stdout",
     "output_type": "stream",
     "text": [
      "enter a random quote :  I think that no matter how old or infirm I may become, I will always plant a large garden in the spring. Who can resist the feelings of hope and joy that one gets from participating in nature's rebirth? —  Edward Giobbi \n",
      "Total no of words in quote : 44\n",
      "Total no of vowles in quote :  63\n",
      "Total no of consonants in quote :  109\n",
      "Total no of special character in quote :  5\n"
     ]
    }
   ],
   "source": [
    "vowles_ec015=0\n",
    "num_ec015=0\n",
    "consonant_ec015=0\n",
    "specialchar_ec015=0\n",
    "words_ec015=0\n",
    "\n",
    "#input : I think that no matter how old or infirm I may become, I will always plant a large garden in the spring. Who can resist the feelings of hope and joy that one gets from participating in nature's rebirth? —  Edward Giobbi \n",
    "try:\n",
    "    x_ec015=input('enter a random quote : ') \n",
    "    y_ec015=x_ec015.lower()\n",
    "\n",
    "    for letter_ec015 in y_ec015:\n",
    "    \n",
    "        if((letter_ec015>=\"a\" and letter_ec015<=\"z\") or(letter_ec015>=\"0\"and letter_ec015<=\"9\" ) or (letter_ec015==\" \")):\n",
    "            if(letter_ec015>=\"a\" and letter_ec015<=\"z\"):\n",
    "            \n",
    "                if(letter_ec015=='a'or letter_ec015=='e' or letter_ec015=='i'or letter_ec015=='o' or letter_ec015=='u'):\n",
    "                    vowles_ec015+=1\n",
    "                else:\n",
    "                    consonant_ec015 +=1\n",
    "            elif(letter_ec015==\" \"):\n",
    "                words_ec015+=1\n",
    "            if(letter_ec015>=\"0\"and letter_ec015<=\"9\"):\n",
    "            \n",
    "                num_ec015 += 1\n",
    "    \n",
    "        else:\n",
    "            specialchar_ec015 +=1\n",
    "except MemoryError:\n",
    "    print('sorry, Memory Error Due to Low RAM ')\n",
    "#output Total no of words in quote 43\n",
    "#no of vowles in quote 63\n",
    "#no of consonants in quote  109\n",
    "#no of special character in quote  5\n",
    "print(\"Total no of words in quote :\",words_ec015)   \n",
    "print(\"Total no of vowles in quote : \",vowles_ec015)\n",
    "print(\"Total no of consonants in quote : \",consonant_ec015)\n",
    "print(\"Total no of special character in quote : \",specialchar_ec015)\n"
   ]
  }
 ],
 "metadata": {
  "kernelspec": {
   "display_name": "Python 3 (ipykernel)",
   "language": "python",
   "name": "python3"
  },
  "language_info": {
   "codemirror_mode": {
    "name": "ipython",
    "version": 3
   },
   "file_extension": ".py",
   "mimetype": "text/x-python",
   "name": "python",
   "nbconvert_exporter": "python",
   "pygments_lexer": "ipython3",
   "version": "3.8.5"
  }
 },
 "nbformat": 4,
 "nbformat_minor": 5
}
